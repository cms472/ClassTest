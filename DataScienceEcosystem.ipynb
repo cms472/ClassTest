{
 "cells": [
  {
   "cell_type": "markdown",
   "id": "04b25a86-2370-4f5f-bb58-12ac773a16eb",
   "metadata": {},
   "source": [
    "# Data Science Tools and Ecosystems"
   ]
  },
  {
   "cell_type": "markdown",
   "id": "769850e5-ca00-47c4-a017-aaa1ee2c86ae",
   "metadata": {},
   "source": [
    "In this notebook, Data Science Tools and Ecosystem are summarized."
   ]
  },
  {
   "cell_type": "markdown",
   "id": "73662ee0-0885-4a0f-9c4d-4afa37b01e99",
   "metadata": {},
   "source": [
    "**Objectives**\n",
    "\n",
    "- List popular languages for Data Science\n",
    "- List commonly used libraries for Data Scientists\n",
    "- List several open-source tools used by Data Scientists\n",
    "- Show some examples of arithmetic expressions that Data Scientists use\n"
   ]
  },
  {
   "cell_type": "markdown",
   "id": "61262b7f-473d-407e-901f-5d51a25ffc56",
   "metadata": {},
   "source": [
    "Some of the popular languages that Data Scientists use are:\n",
    "\n",
    "1. Java\n",
    "2. Python\n",
    "3. R"
   ]
  },
  {
   "cell_type": "markdown",
   "id": "c916868f-ff7b-4c20-9063-cd507406db75",
   "metadata": {},
   "source": [
    "Some of the commonly used libraries used by Data Scientists include:\n",
    "\n",
    "1. Pandas\n",
    "2. Matplotlib\n",
    "3. Scikit-learn\n",
    "4. Plotly\n"
   ]
  },
  {
   "cell_type": "markdown",
   "id": "f2fa2c19-3dd6-496d-977a-577b0c88777e",
   "metadata": {},
   "source": [
    "| Data Science Tools |\n",
    "| -------------|\n",
    "| MySQL |\n",
    "| MongoDB |\n",
    "| Hadoop |"
   ]
  },
  {
   "cell_type": "markdown",
   "id": "6fe12d2d-3565-4e9b-be17-0fa3c27a6b86",
   "metadata": {},
   "source": [
    "### Below are a few examples of evaluating arithmetic expressions in Python: \n",
    "\n",
    "x <- 1 + 2\n",
    "\n",
    "y <- 3 * 5\n",
    "\n",
    "z <- y-x"
   ]
  },
  {
   "cell_type": "code",
   "execution_count": 5,
   "id": "60bd8c9a-58ce-424c-b148-9e4ed60350f2",
   "metadata": {
    "tags": []
   },
   "outputs": [
    {
     "data": {
      "text/plain": [
       "17"
      ]
     },
     "execution_count": 5,
     "metadata": {},
     "output_type": "execute_result"
    }
   ],
   "source": [
    "# This is a simple arithmetic expression to multiply then add integers\n",
    "(3*4)+5"
   ]
  },
  {
   "cell_type": "code",
   "execution_count": 6,
   "id": "e2eee28f-b013-486a-ae2e-6728f68d85d9",
   "metadata": {
    "tags": []
   },
   "outputs": [
    {
     "data": {
      "text/plain": [
       "3.3333333333333335"
      ]
     },
     "execution_count": 6,
     "metadata": {},
     "output_type": "execute_result"
    }
   ],
   "source": [
    "# This will convert 200 minutes to hours by dividing by 60\n",
    "200/60"
   ]
  },
  {
   "cell_type": "markdown",
   "id": "98c1991d-e50f-4a6a-858e-e02b11daefc8",
   "metadata": {},
   "source": [
    "## Author\n",
    "Curtis Sumner"
   ]
  },
  {
   "cell_type": "code",
   "execution_count": null,
   "id": "6a5d2bb1-4614-44c9-90be-0a5967ebf9ef",
   "metadata": {},
   "outputs": [],
   "source": []
  }
 ],
 "metadata": {
  "kernelspec": {
   "display_name": "Python",
   "language": "python",
   "name": "conda-env-python-py"
  },
  "language_info": {
   "codemirror_mode": {
    "name": "ipython",
    "version": 3
   },
   "file_extension": ".py",
   "mimetype": "text/x-python",
   "name": "python",
   "nbconvert_exporter": "python",
   "pygments_lexer": "ipython3",
   "version": "3.7.12"
  }
 },
 "nbformat": 4,
 "nbformat_minor": 5
}
